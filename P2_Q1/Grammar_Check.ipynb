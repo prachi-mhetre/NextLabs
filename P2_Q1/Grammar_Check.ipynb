{
 "cells": [
  {
   "cell_type": "code",
   "execution_count": 2,
   "id": "b1a5d237",
   "metadata": {},
   "outputs": [],
   "source": [
    "from happytransformer import HappyTextToText"
   ]
  },
  {
   "cell_type": "code",
   "execution_count": 3,
   "id": "8b9a9979",
   "metadata": {},
   "outputs": [
    {
     "name": "stderr",
     "output_type": "stream",
     "text": [
      "04/06/2022 21:46:36 - INFO - happytransformer.happy_transformer -   Using model: cpu\n"
     ]
    }
   ],
   "source": [
    "happy_tt = HappyTextToText(\"T5\", \"vennify/t5-base-grammar-correction\")"
   ]
  },
  {
   "cell_type": "code",
   "execution_count": 4,
   "id": "46b74a7b",
   "metadata": {},
   "outputs": [],
   "source": [
    "from happytransformer import TTSettings"
   ]
  },
  {
   "cell_type": "code",
   "execution_count": 5,
   "id": "c3c80d1f",
   "metadata": {},
   "outputs": [],
   "source": [
    "args = TTSettings(num_beams=5, min_length=1)"
   ]
  },
  {
   "cell_type": "code",
   "execution_count": 6,
   "id": "14b0769c",
   "metadata": {},
   "outputs": [],
   "source": [
    "import pandas as pd"
   ]
  },
  {
   "cell_type": "code",
   "execution_count": 7,
   "id": "a3ff8d7e",
   "metadata": {},
   "outputs": [],
   "source": [
    "df=pd.read_csv(\"C:\\\\Users\\\\EASY\\\\NextGrowthLabs Evaluation-1\\\\P2_Q1\\\\review_data.csv\")"
   ]
  },
  {
   "cell_type": "code",
   "execution_count": 8,
   "id": "b5ceeafa",
   "metadata": {},
   "outputs": [
    {
     "data": {
      "text/plain": [
       "(30000, 4)"
      ]
     },
     "execution_count": 8,
     "metadata": {},
     "output_type": "execute_result"
    }
   ],
   "source": [
    "df.shape"
   ]
  },
  {
   "cell_type": "code",
   "execution_count": 9,
   "id": "887ee2bb",
   "metadata": {},
   "outputs": [
    {
     "data": {
      "text/plain": [
       "<bound method NDFrame.head of                                                     text  star  \\\n",
       "0                                        Anathi Khanyile     5   \n",
       "1      Tony bahut funny hai Hill climbing racing my f...     5   \n",
       "2                                                Teturwu     1   \n",
       "3      Hoooooooooooyaaaaaaaaa what a game hoooooooooo...     5   \n",
       "4                                      This game is nice     5   \n",
       "...                                                  ...   ...   \n",
       "29995                                 Plz my Vidos viral     5   \n",
       "29996                                               Nice     5   \n",
       "29997                  Disturbing too much as YouTube ad     1   \n",
       "29998                                      Koub valo vai     5   \n",
       "29999                          I want to grow my account     5   \n",
       "\n",
       "                         app_id reviewDate  \n",
       "0      com.fingersoft.hillclimb   18/03/21  \n",
       "1      com.fingersoft.hillclimb   18/03/21  \n",
       "2      com.fingersoft.hillclimb   18/03/21  \n",
       "3      com.fingersoft.hillclimb   18/03/21  \n",
       "4      com.fingersoft.hillclimb   18/03/21  \n",
       "...                         ...        ...  \n",
       "29995                video.like   21/03/21  \n",
       "29996                video.like   21/03/21  \n",
       "29997                video.like   21/03/21  \n",
       "29998                video.like   21/03/21  \n",
       "29999                video.like   21/03/21  \n",
       "\n",
       "[30000 rows x 4 columns]>"
      ]
     },
     "execution_count": 9,
     "metadata": {},
     "output_type": "execute_result"
    }
   ],
   "source": [
    "df.head"
   ]
  },
  {
   "cell_type": "code",
   "execution_count": 10,
   "id": "aa5d031c",
   "metadata": {},
   "outputs": [
    {
     "data": {
      "text/plain": [
       "Index(['text', 'star', 'app_id', 'reviewDate'], dtype='object')"
      ]
     },
     "execution_count": 10,
     "metadata": {},
     "output_type": "execute_result"
    }
   ],
   "source": [
    "df.columns"
   ]
  },
  {
   "cell_type": "code",
   "execution_count": 13,
   "id": "7cf54d45",
   "metadata": {},
   "outputs": [
    {
     "data": {
      "text/plain": [
       "'This was good, not apples.'"
      ]
     },
     "execution_count": 13,
     "metadata": {},
     "output_type": "execute_result"
    }
   ],
   "source": [
    "result = happy_tt.generate_text(\"grammar: This were good not apples\",args=args)\n",
    "result.text"
   ]
  },
  {
   "cell_type": "code",
   "execution_count": null,
   "id": "959beb31",
   "metadata": {},
   "outputs": [],
   "source": [
    "train_text = df_imdb.loc[0:18000, 'text'].values\n",
    "test_text = df_imdb.loc[18000:30000, 'text'].values"
   ]
  }
 ],
 "metadata": {
  "kernelspec": {
   "display_name": "Python 3 (ipykernel)",
   "language": "python",
   "name": "python3"
  },
  "language_info": {
   "codemirror_mode": {
    "name": "ipython",
    "version": 3
   },
   "file_extension": ".py",
   "mimetype": "text/x-python",
   "name": "python",
   "nbconvert_exporter": "python",
   "pygments_lexer": "ipython3",
   "version": "3.9.7"
  }
 },
 "nbformat": 4,
 "nbformat_minor": 5
}
